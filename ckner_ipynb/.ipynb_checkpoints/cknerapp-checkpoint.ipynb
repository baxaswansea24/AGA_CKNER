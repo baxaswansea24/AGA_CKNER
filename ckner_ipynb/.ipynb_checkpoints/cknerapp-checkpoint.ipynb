{
 "cells": [
  {
   "cell_type": "markdown",
   "id": "959fc532-9d2b-4fdb-808f-fbdb461306ed",
   "metadata": {},
   "source": [
    "# APP"
   ]
  },
  {
   "cell_type": "code",
   "execution_count": 7,
   "id": "80f72387-410a-44ee-8756-0148ca745345",
   "metadata": {},
   "outputs": [
    {
     "name": "stderr",
     "output_type": "stream",
     "text": [
      "[nltk_data] Downloading package punkt to\n",
      "[nltk_data]     C:\\Users\\bakht\\AppData\\Roaming\\nltk_data...\n",
      "[nltk_data]   Package punkt is already up-to-date!\n"
     ]
    },
    {
     "data": {
      "text/plain": [
       "True"
      ]
     },
     "execution_count": 7,
     "metadata": {},
     "output_type": "execute_result"
    }
   ],
   "source": [
    "import nltk\n",
    "import joblib\n",
    "import ipywidgets as widgets\n",
    "from IPython.display import display, HTML\n",
    "from nltk.tokenize import word_tokenize\n",
    "\n",
    "# Load your trained CRF model\n",
    "crf = joblib.load('ckner.pkl')\n",
    "\n",
    "# Ensure nltk's word tokenizer is ready\n",
    "nltk.download('punkt')"
   ]
  },
  {
   "cell_type": "code",
   "execution_count": 8,
   "id": "3a5604f8-b86e-42a7-867f-c8b3bbe127e9",
   "metadata": {},
   "outputs": [],
   "source": [
    "def word2features(sent, i):\n",
    "    word = sent[i]\n",
    "    \n",
    "    features = {\n",
    "        'word': word,\n",
    "        'is_first': i == 0,\n",
    "        'is_last': i == len(sent) - 1,\n",
    "        'is_capitalized': word[0].upper() == word[0],\n",
    "        'is_all_caps': word.upper() == word,\n",
    "        'is_all_lower': word.lower() == word,\n",
    "        'prefix-1': word[0],\n",
    "        'prefix-2': word[:2],\n",
    "        'prefix-3': word[:3],\n",
    "        'suffix-1': word[-1],\n",
    "        'suffix-2': word[-2:],\n",
    "        'suffix-3': word[-3:],\n",
    "        'prev_word': '' if i == 0 else sent[i - 1],\n",
    "        'next_word': '' if i == len(sent) - 1 else sent[i + 1],\n",
    "    }\n",
    "    return features\n",
    "\n",
    "def sent2features(sent):\n",
    "    return [word2features(sent, i) for i in range(len(sent))]"
   ]
  },
  {
   "cell_type": "code",
   "execution_count": 9,
   "id": "4a3c4440-0fc3-449b-b8ee-5526433e4b24",
   "metadata": {},
   "outputs": [],
   "source": [
    "# Define colors for different entity types\n",
    "entity_colors = {\n",
    "    \"PER\": \"#FFDDC1\",  # Light Coral\n",
    "    \"LOC\": \"#C1E1C1\",  # Light Green\n",
    "    \"ORG\": \"#C1C8E4\",  # Light Blue\n",
    "    \"DATE\": \"#FFFFBA\", # Light Yellow\n",
    "    \"MISC\": \"#E2C1FF\"  # Light Purple\n",
    "}\n",
    "\n",
    "def predict_entities(sentence):\n",
    "    tokens = word_tokenize(sentence)\n",
    "    features = [sent2features(tokens)]\n",
    "    prediction = crf.predict(features)[0]\n",
    "    return list(zip(tokens, prediction))\n",
    "\n",
    "def highlight_entities(entities):\n",
    "    styled_text = \"\"\n",
    "    for word, tag in entities:\n",
    "        if tag != \"O\":  # Skip words with 'O' tag\n",
    "            entity_type = tag.split('-')[-1]  # Extract entity type (e.g., PER, LOC)\n",
    "            color = entity_colors.get(entity_type, \"#D3D3D3\")  # Default to light grey\n",
    "            styled_text += f'<span style=\"background-color: {color}; padding: 0.2em; margin: 0.1em; border-radius: 5px; display: inline-block;\">{word} <strong>({tag})</strong></span> '\n",
    "        else:\n",
    "            styled_text += f\"{word} \"\n",
    "\n",
    "    return f'<div style=\"direction: rtl; text-align: right; font-size: 1.2em;\">{styled_text}</div>'"
   ]
  },
  {
   "cell_type": "code",
   "execution_count": 10,
   "id": "e441e438-a1ac-48cf-a3f9-97fb6a4bc88b",
   "metadata": {},
   "outputs": [
    {
     "data": {
      "text/html": [
       "<h1 style='text-align: right; font-family: Arial, sans-serif;'>بەرنامەی دەرکەوتنەوەی کەسییات</h1>"
      ],
      "text/plain": [
       "<IPython.core.display.HTML object>"
      ]
     },
     "metadata": {},
     "output_type": "display_data"
    },
    {
     "data": {
      "text/html": [
       "<p style='text-align: right; font-family: Arial, sans-serif;'>دەقەکەت لە خانەی ژوورەوە بنووسە و دوگمەی 'ئەنجامی بەرزدانەوە' کلیک بکە بۆ پیشاندانی کەسییات.</p>"
      ],
      "text/plain": [
       "<IPython.core.display.HTML object>"
      ]
     },
     "metadata": {},
     "output_type": "display_data"
    },
    {
     "data": {
      "application/vnd.jupyter.widget-view+json": {
       "model_id": "2274f1b833b14e48b239dfce7f0f3855",
       "version_major": 2,
       "version_minor": 0
      },
      "text/plain": [
       "VBox(children=(Textarea(value='ئێرەدا دەست نوێ دێم.', description='دەق:', layout=Layout(height='100px', width=…"
      ]
     },
     "metadata": {},
     "output_type": "display_data"
    },
    {
     "data": {
      "application/vnd.jupyter.widget-view+json": {
       "model_id": "18d5ecdbc1a8497999b062b601bc7071",
       "version_major": 2,
       "version_minor": 0
      },
      "text/plain": [
       "Output()"
      ]
     },
     "metadata": {},
     "output_type": "display_data"
    }
   ],
   "source": [
    "# Text area for user input\n",
    "text_input = widgets.Textarea(\n",
    "    value='ئێرەدا دەست نوێ دێم.',\n",
    "    placeholder='تکایە دەقی خۆت لێرە بنووسە...',\n",
    "    description='دەق:',\n",
    "    layout=widgets.Layout(width='70%', height='100px'),\n",
    "    style={'description_width': 'initial'}\n",
    ")\n",
    "\n",
    "# Button to trigger the prediction\n",
    "button = widgets.Button(description=\"ئەنجامی بەرزدانەوە\", layout=widgets.Layout(width='30%'))\n",
    "\n",
    "# Output area to display the results\n",
    "output = widgets.Output()\n",
    "\n",
    "# Define button click event handler\n",
    "def on_button_click(b):\n",
    "    with output:\n",
    "        output.clear_output()\n",
    "        sentence = text_input.value\n",
    "        entities = predict_entities(sentence)\n",
    "        styled_text = highlight_entities(entities)\n",
    "        display(HTML(styled_text))\n",
    "\n",
    "# Link the button with the event handler\n",
    "button.on_click(on_button_click)\n",
    "\n",
    "# Organize layout\n",
    "input_area = widgets.VBox([text_input, button])\n",
    "display(HTML(\"<h1 style='text-align: right; font-family: Arial, sans-serif;'>بەرنامەی دەرکەوتنەوەی کەسییات</h1>\"))\n",
    "display(HTML(\"<p style='text-align: right; font-family: Arial, sans-serif;'>دەقەکەت لە خانەی ژوورەوە بنووسە و دوگمەی 'ئەنجامی بەرزدانەوە' کلیک بکە بۆ پیشاندانی کەسییات.</p>\"))\n",
    "display(input_area, output)"
   ]
  },
  {
   "cell_type": "code",
   "execution_count": 11,
   "id": "7f9941b3-f854-468c-b2f2-4c937232f8f2",
   "metadata": {},
   "outputs": [
    {
     "data": {
      "text/html": [
       "<h1 style='text-align: right; font-family: Arial, sans-serif;'>بەرنامەی دەرکەوتنەوەی کەسییات</h1>"
      ],
      "text/plain": [
       "<IPython.core.display.HTML object>"
      ]
     },
     "metadata": {},
     "output_type": "display_data"
    },
    {
     "data": {
      "text/html": [
       "<p style='text-align: right; font-family: Arial, sans-serif;'>دەقەکەت لە خانەی ژوورەوە بنووسە و دوگمەی 'ئەنجامی بەرزدانەوە' کلیک بکە بۆ پیشاندانی کەسییات.</p>"
      ],
      "text/plain": [
       "<IPython.core.display.HTML object>"
      ]
     },
     "metadata": {},
     "output_type": "display_data"
    },
    {
     "data": {
      "application/vnd.jupyter.widget-view+json": {
       "model_id": "fe9e6cc0b004429b88f5e63d821c4739",
       "version_major": 2,
       "version_minor": 0
      },
      "text/plain": [
       "VBox(children=(Textarea(value='ئێرەدا دەست نوێ دێم.', description='دەق:', layout=Layout(height='100px', width=…"
      ]
     },
     "metadata": {},
     "output_type": "display_data"
    },
    {
     "data": {
      "application/vnd.jupyter.widget-view+json": {
       "model_id": "fe7697942a694adcb3f466f842a11410",
       "version_major": 2,
       "version_minor": 0
      },
      "text/plain": [
       "Output()"
      ]
     },
     "metadata": {},
     "output_type": "display_data"
    }
   ],
   "source": [
    "# Text area for user input\n",
    "text_input = widgets.Textarea(\n",
    "    value='ئێرەدا دەست نوێ دێم.',\n",
    "    placeholder='تکایە دەقی خۆت لێرە بنووسە...',\n",
    "    description='دەق:',\n",
    "    layout=widgets.Layout(width='70%', height='100px'),\n",
    "    style={'description_width': 'initial'}\n",
    ")\n",
    "\n",
    "# Button to trigger the prediction\n",
    "button = widgets.Button(description=\"ئەنجامی بەرزدانەوە\", layout=widgets.Layout(width='30%'))\n",
    "\n",
    "# Output area to display the results\n",
    "output = widgets.Output()\n",
    "\n",
    "# Define button click event handler\n",
    "def on_button_click(b):\n",
    "    with output:\n",
    "        output.clear_output()\n",
    "        sentence = text_input.value\n",
    "        entities = predict_entities(sentence)\n",
    "        styled_text = highlight_entities(entities)\n",
    "        display(HTML(styled_text))\n",
    "\n",
    "# Link the button with the event handler\n",
    "button.on_click(on_button_click)\n",
    "\n",
    "# Organize layout\n",
    "input_area = widgets.VBox([text_input, button])\n",
    "display(HTML(\"<h1 style='text-align: right; font-family: Arial, sans-serif;'>بەرنامەی دەرکەوتنەوەی کەسییات</h1>\"))\n",
    "display(HTML(\"<p style='text-align: right; font-family: Arial, sans-serif;'>دەقەکەت لە خانەی ژوورەوە بنووسە و دوگمەی 'ئەنجامی بەرزدانەوە' کلیک بکە بۆ پیشاندانی کەسییات.</p>\"))\n",
    "display(input_area, output)"
   ]
  },
  {
   "cell_type": "code",
   "execution_count": null,
   "id": "01bdb700-1f4c-419c-aa0d-0bf144477d59",
   "metadata": {},
   "outputs": [],
   "source": []
  }
 ],
 "metadata": {
  "kernelspec": {
   "display_name": "Python 3 (ipykernel)",
   "language": "python",
   "name": "python3"
  },
  "language_info": {
   "codemirror_mode": {
    "name": "ipython",
    "version": 3
   },
   "file_extension": ".py",
   "mimetype": "text/x-python",
   "name": "python",
   "nbconvert_exporter": "python",
   "pygments_lexer": "ipython3",
   "version": "3.12.4"
  }
 },
 "nbformat": 4,
 "nbformat_minor": 5
}
