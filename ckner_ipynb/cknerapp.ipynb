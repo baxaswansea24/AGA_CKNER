{
 "cells": [
  {
   "cell_type": "markdown",
   "id": "959fc532-9d2b-4fdb-808f-fbdb461306ed",
   "metadata": {},
   "source": [
    "# APP"
   ]
  },
  {
   "cell_type": "code",
   "execution_count": 24,
   "id": "80f72387-410a-44ee-8756-0148ca745345",
   "metadata": {},
   "outputs": [
    {
     "name": "stderr",
     "output_type": "stream",
     "text": [
      "[nltk_data] Downloading package punkt to\n",
      "[nltk_data]     C:\\Users\\bakht\\AppData\\Roaming\\nltk_data...\n",
      "[nltk_data]   Package punkt is already up-to-date!\n"
     ]
    },
    {
     "data": {
      "text/plain": [
       "True"
      ]
     },
     "execution_count": 24,
     "metadata": {},
     "output_type": "execute_result"
    }
   ],
   "source": [
    "import nltk\n",
    "import joblib\n",
    "import ipywidgets as widgets\n",
    "from IPython.display import display, HTML\n",
    "from nltk.tokenize import word_tokenize\n",
    "\n",
    "# Load your trained CRF model\n",
    "crf = joblib.load('ckner.pkl')\n",
    "\n",
    "# Ensure nltk's word tokenizer is ready\n",
    "nltk.download('punkt')"
   ]
  },
  {
   "cell_type": "code",
   "execution_count": 25,
   "id": "3a5604f8-b86e-42a7-867f-c8b3bbe127e9",
   "metadata": {},
   "outputs": [],
   "source": [
    "# Define colors for different entity types\n",
    "entity_colors = {\n",
    "    \"PER\": \"#FFDDC1\",  # Light Coral\n",
    "    \"LOC\": \"#C1E1C1\",  # Light Green\n",
    "    \"ORG\": \"#C1C8E4\",  # Light Blue\n",
    "    \"DATE\": \"#FFFFBA\", # Light Yellow\n",
    "    \"MISC\": \"#E2C1FF\"  # Light Purple\n",
    "}\n",
    "\n",
    "def predict_entities(sentence):\n",
    "    tokens = word_tokenize(sentence)\n",
    "    features = [sent2features(tokens)]\n",
    "    prediction = crf.predict(features)[0]\n",
    "    return list(zip(tokens, prediction))\n",
    "\n",
    "def highlight_entities(entities):\n",
    "    styled_text = \"\"\n",
    "    current_entity = \"\"\n",
    "    entity_type = None\n",
    "    for word, tag in entities:\n",
    "        if tag != \"O\":\n",
    "            tag_type = tag.split('-')[-1]\n",
    "            if \"B-\" in tag:\n",
    "                if current_entity:\n",
    "                    color = entity_colors.get(entity_type, \"#D3D3D3\")\n",
    "                    styled_text += f'<span style=\"background-color: {color}; padding: 0.2em; margin: 0.1em; border-radius: 5px; display: inline-block;\">{current_entity} <strong>({entity_type})</strong></span> '\n",
    "                current_entity = word\n",
    "                entity_type = tag_type\n",
    "            elif \"I-\" in tag:\n",
    "                current_entity += f\" {word}\"\n",
    "        else:\n",
    "            if current_entity:\n",
    "                color = entity_colors.get(entity_type, \"#D3D3D3\")\n",
    "                styled_text += f'<span style=\"background-color: {color}; padding: 0.2em; margin: 0.1em; border-radius: 5px; display: inline-block;\">{current_entity} <strong>({entity_type})</strong></span> '\n",
    "                current_entity = \"\"\n",
    "                entity_type = None\n",
    "            styled_text += f\"{word} \"\n",
    "\n",
    "    if current_entity:\n",
    "        color = entity_colors.get(entity_type, \"#D3D3D3\")\n",
    "        styled_text += f'<span style=\"background-color: {color}; padding: 0.2em; margin: 0.1em; border-radius: 5px; display: inline-block;\">{current_entity} <strong>({entity_type})</strong></span> '\n",
    "\n",
    "    return f'<div style=\"direction: rtl; text-align: right; font-size: 1.2em;\">{styled_text}</div>'"
   ]
  },
  {
   "cell_type": "code",
   "execution_count": 26,
   "id": "4a3c4440-0fc3-449b-b8ee-5526433e4b24",
   "metadata": {},
   "outputs": [
    {
     "data": {
      "text/html": [
       "\n",
       "<style>\n",
       "    .app-container {\n",
       "        max-width: 800px;\n",
       "        margin: 0 auto;\n",
       "        padding: 20px;\n",
       "        font-family: Arial, sans-serif;\n",
       "    }\n",
       "    h1 {\n",
       "        text-align: center;\n",
       "        font-family: 'Segoe UI', Tahoma, Geneva, Verdana, sans-serif;\n",
       "        color: #333;\n",
       "    }\n",
       "    .description {\n",
       "        text-align: center;\n",
       "        font-size: 1.2em;\n",
       "        color: #555;\n",
       "        margin-bottom: 20px;\n",
       "    }\n",
       "</style>\n",
       "<div class=\"app-container\">\n",
       "    <h1>CKNER</h1>\n",
       "    <p class=\"description\">CKNER APP</p>\n",
       "</div>\n"
      ],
      "text/plain": [
       "<IPython.core.display.HTML object>"
      ]
     },
     "metadata": {},
     "output_type": "display_data"
    },
    {
     "data": {
      "application/vnd.jupyter.widget-view+json": {
       "model_id": "c82115cf847d454d865b42b51b011158",
       "version_major": 2,
       "version_minor": 0
      },
      "text/plain": [
       "VBox(children=(Textarea(value='ئێرەدا دەست نوێ دێم.', description='دەق:', layout=Layout(height='100px', width=…"
      ]
     },
     "metadata": {},
     "output_type": "display_data"
    },
    {
     "data": {
      "application/vnd.jupyter.widget-view+json": {
       "model_id": "8c4aa8e9612f470b955a47fd13b652bf",
       "version_major": 2,
       "version_minor": 0
      },
      "text/plain": [
       "Output()"
      ]
     },
     "metadata": {},
     "output_type": "display_data"
    }
   ],
   "source": [
    "# Text area for user input\n",
    "text_input = widgets.Textarea(\n",
    "    value='ئێرەدا دەست نوێ دێم.',\n",
    "    placeholder='تکایە دەقی خۆت لێرە بنووسە...',\n",
    "    description='دەق:',\n",
    "    layout=widgets.Layout(width='100%', height='100px'),\n",
    "    style={'description_width': 'initial'}\n",
    ")\n",
    "\n",
    "# Button to trigger the prediction\n",
    "button = widgets.Button(description=\"ئەنجامی بەرزدانەوە\", layout=widgets.Layout(width='100%'))\n",
    "\n",
    "# Output area to display the results\n",
    "output = widgets.Output()\n",
    "\n",
    "# Define button click event handler\n",
    "def on_button_click(b):\n",
    "    with output:\n",
    "        output.clear_output()\n",
    "        sentence = text_input.value\n",
    "        entities = predict_entities(sentence)\n",
    "        styled_text = highlight_entities(entities)\n",
    "        display(HTML(styled_text))\n",
    "\n",
    "# Link the button with the event handler\n",
    "button.on_click(on_button_click)\n",
    "\n",
    "# Organize layout\n",
    "input_area = widgets.VBox([text_input, button])\n",
    "\n",
    "# CSS for more polished layout\n",
    "app_layout = \"\"\"\n",
    "<style>\n",
    "    .app-container {\n",
    "        max-width: 800px;\n",
    "        margin: 0 auto;\n",
    "        padding: 20px;\n",
    "        font-family: Arial, sans-serif;\n",
    "    }\n",
    "    h1 {\n",
    "        text-align: center;\n",
    "        font-family: 'Segoe UI', Tahoma, Geneva, Verdana, sans-serif;\n",
    "        color: #333;\n",
    "    }\n",
    "    .description {\n",
    "        text-align: center;\n",
    "        font-size: 1.2em;\n",
    "        color: #555;\n",
    "        margin-bottom: 20px;\n",
    "    }\n",
    "</style>\n",
    "<div class=\"app-container\">\n",
    "    <h1>CKNER</h1>\n",
    "    <p class=\"description\">CKNER APP</p>\n",
    "</div>\n",
    "\"\"\"\n",
    "\n",
    "display(HTML(app_layout))\n",
    "display(input_area, output)"
   ]
  },
  {
   "cell_type": "code",
   "execution_count": 28,
   "id": "e441e438-a1ac-48cf-a3f9-97fb6a4bc88b",
   "metadata": {},
   "outputs": [
    {
     "data": {
      "text/html": [
       "<h1 style='text-align: right; font-family: Arial, sans-serif;'>CKNER</h1>"
      ],
      "text/plain": [
       "<IPython.core.display.HTML object>"
      ]
     },
     "metadata": {},
     "output_type": "display_data"
    },
    {
     "data": {
      "text/html": [
       "<p style='text-align: right; font-family: Arial, sans-serif;'>Enter your text</p>"
      ],
      "text/plain": [
       "<IPython.core.display.HTML object>"
      ]
     },
     "metadata": {},
     "output_type": "display_data"
    },
    {
     "data": {
      "application/vnd.jupyter.widget-view+json": {
       "model_id": "726dfad26c6b4920be66e35bb2d374c7",
       "version_major": 2,
       "version_minor": 0
      },
      "text/plain": [
       "VBox(children=(Textarea(value='ئێرەدا دەست نوێ دێم.', description='دەق:', layout=Layout(height='100px', width=…"
      ]
     },
     "metadata": {},
     "output_type": "display_data"
    },
    {
     "data": {
      "application/vnd.jupyter.widget-view+json": {
       "model_id": "a113f94ff67947a7ac662b45f1e84718",
       "version_major": 2,
       "version_minor": 0
      },
      "text/plain": [
       "Output()"
      ]
     },
     "metadata": {},
     "output_type": "display_data"
    }
   ],
   "source": [
    "# Text area for user input\n",
    "text_input = widgets.Textarea(\n",
    "    value='ئێرەدا دەست نوێ دێم.',\n",
    "    placeholder='تکایە دەقی خۆت لێرە بنووسە...',\n",
    "    description='دەق:',\n",
    "    layout=widgets.Layout(width='70%', height='100px'),\n",
    "    style={'description_width': 'initial'}\n",
    ")\n",
    "\n",
    "# Button to trigger the prediction\n",
    "button = widgets.Button(description=\"ئەنجامی بەرزدانەوە\", layout=widgets.Layout(width='30%'))\n",
    "\n",
    "# Output area to display the results\n",
    "output = widgets.Output()\n",
    "\n",
    "# Define button click event handler\n",
    "def on_button_click(b):\n",
    "    with output:\n",
    "        output.clear_output()\n",
    "        sentence = text_input.value\n",
    "        entities = predict_entities(sentence)\n",
    "        styled_text = highlight_entities(entities)\n",
    "        display(HTML(styled_text))\n",
    "\n",
    "# Link the button with the event handler\n",
    "button.on_click(on_button_click)\n",
    "\n",
    "# Organize layout\n",
    "input_area = widgets.VBox([text_input, button])\n",
    "display(HTML(\"<h1 style='text-align: right; font-family: Arial, sans-serif;'>CKNER</h1>\"))\n",
    "display(HTML(\"<p style='text-align: right; font-family: Arial, sans-serif;'>Enter your text</p>\"))\n",
    "display(input_area, output)"
   ]
  },
  {
   "cell_type": "code",
   "execution_count": null,
   "id": "01bdb700-1f4c-419c-aa0d-0bf144477d59",
   "metadata": {},
   "outputs": [],
   "source": []
  },
  {
   "cell_type": "code",
   "execution_count": null,
   "id": "b02e9293-9b26-4002-a8b7-15ede27517fd",
   "metadata": {},
   "outputs": [],
   "source": []
  }
 ],
 "metadata": {
  "kernelspec": {
   "display_name": "Python 3 (ipykernel)",
   "language": "python",
   "name": "python3"
  },
  "language_info": {
   "codemirror_mode": {
    "name": "ipython",
    "version": 3
   },
   "file_extension": ".py",
   "mimetype": "text/x-python",
   "name": "python",
   "nbconvert_exporter": "python",
   "pygments_lexer": "ipython3",
   "version": "3.12.4"
  }
 },
 "nbformat": 4,
 "nbformat_minor": 5
}
