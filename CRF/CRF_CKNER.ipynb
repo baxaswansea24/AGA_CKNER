{
 "cells": [
  {
   "cell_type": "code",
   "execution_count": 1,
   "id": "f55b4d9c-3143-47c0-93ac-c25a975af76a",
   "metadata": {},
   "outputs": [],
   "source": [
    "import sklearn_crfsuite\n",
    "from sklearn_crfsuite import metrics\n",
    "from sklearn.model_selection import train_test_split\n",
    "import joblib\n",
    "\n",
    "# Function to load data\n",
    "def load_data(filepath):\n",
    "    sentences = []\n",
    "    sentence = []\n",
    "    \n",
    "    with open(filepath, 'r', encoding='utf-8') as file:\n",
    "        for line in file:\n",
    "            line = line.strip()\n",
    "            if not line:\n",
    "                if sentence:\n",
    "                    sentences.append(sentence)\n",
    "                    sentence = []\n",
    "            else:\n",
    "                token, tag = line.split()\n",
    "                sentence.append((token, tag))\n",
    "                \n",
    "    if sentence:  # Add last sentence if file doesn't end with a newline\n",
    "        sentences.append(sentence)\n",
    "    \n",
    "    return sentences\n",
    "\n",
    "# Function to extract features from a token\n",
    "def word2features(sent, i):\n",
    "    word = sent[i][0]\n",
    "    \n",
    "    features = {\n",
    "        'bias': 1.0,\n",
    "        'word.lower()': word.lower(),\n",
    "        'word[-3:]': word[-3:],\n",
    "        'word[-2:]': word[-2:],\n",
    "        'word.isupper()': word.isupper(),\n",
    "        'word.istitle()': word.istitle(),\n",
    "        'word.isdigit()': word.isdigit(),\n",
    "    }\n",
    "    \n",
    "    if i > 0:\n",
    "        word1 = sent[i-1][0]\n",
    "        features.update({\n",
    "            '-1:word.lower()': word1.lower(),\n",
    "            '-1:word.istitle()': word1.istitle(),\n",
    "            '-1:word.isupper()': word1.isupper(),\n",
    "        })\n",
    "    else:\n",
    "        features['BOS'] = True\n",
    "\n",
    "    if i < len(sent)-1:\n",
    "        word1 = sent[i+1][0]\n",
    "        features.update({\n",
    "            '+1:word.lower()': word1.lower(),\n",
    "            '+1:word.istitle()': word1.istitle(),\n",
    "            '+1:word.isupper()': word1.isupper(),\n",
    "        })\n",
    "    else:\n",
    "        features['EOS'] = True\n",
    "\n",
    "    return features\n",
    "\n",
    "# Function to prepare features for all sentences\n",
    "def sent2features(sent):\n",
    "    return [word2features(sent, i) for i in range(len(sent))]\n",
    "\n",
    "def sent2labels(sent):\n",
    "    return [label for token, label in sent]\n",
    "\n",
    "def sent2tokens(sent):\n",
    "    return [token for token, label in sent]\n",
    "\n",
    "# Load your dataset\n",
    "data = load_data('wlina_bd.txt')\n",
    "\n",
    "# Prepare data for CRF model\n",
    "X = [sent2features(s) for s in data]\n",
    "y = [sent2labels(s) for s in data]\n",
    "\n",
    "# Split data into train and test sets\n",
    "X_train, X_test, y_train, y_test = train_test_split(X, y, test_size=0.2, random_state=42)"
   ]
  },
  {
   "cell_type": "markdown",
   "id": "c8df7d80-9bbd-4cc5-b6ad-a1ae04e91b80",
   "metadata": {},
   "source": [
    "# Train CRF MODEL"
   ]
  },
  {
   "cell_type": "code",
   "execution_count": 2,
   "id": "4165d6d3-df23-4a6a-b390-404fc8a2067d",
   "metadata": {
    "scrolled": true
   },
   "outputs": [
    {
     "name": "stdout",
     "output_type": "stream",
     "text": [
      "F1 score:\n",
      "0.943574619876435\n",
      "\n",
      "Classification Report:\n",
      "              precision    recall  f1-score   support\n",
      "\n",
      "       B-LOC       0.97      0.96      0.96      2431\n",
      "      B-MISC       0.97      0.92      0.94      1294\n",
      "       B-ORG       0.94      0.93      0.93      1062\n",
      "       B-PER       0.97      0.88      0.92       651\n",
      "       I-PER       0.97      0.91      0.94       614\n",
      "       I-ORG       0.95      0.95      0.95      1259\n",
      "      I-MISC       0.93      0.95      0.94       547\n",
      "       I-LOC       0.93      0.95      0.94       591\n",
      "      B-DATE       0.92      0.91      0.92       670\n",
      "      I-DATE       0.94      0.95      0.95       824\n",
      "\n",
      "   micro avg       0.95      0.94      0.94      9943\n",
      "   macro avg       0.95      0.93      0.94      9943\n",
      "weighted avg       0.95      0.94      0.94      9943\n",
      "\n"
     ]
    }
   ],
   "source": [
    "# Define the CRF model\n",
    "crf = sklearn_crfsuite.CRF(\n",
    "    algorithm='lbfgs',\n",
    "    c1=0.1,  # Coefficient for L1 penalty\n",
    "    c2=0.1,  # Coefficient for L2 penalty\n",
    "    max_iterations=100,\n",
    "    all_possible_transitions=True\n",
    ")\n",
    "\n",
    "# Train the CRF model\n",
    "crf.fit(X_train, y_train)\n",
    "\n",
    "# Predict on the test set\n",
    "y_pred = crf.predict(X_test)\n",
    "\n",
    "# Evaluate the model\n",
    "labels = list(crf.classes_)\n",
    "labels.remove('O')  # Remove 'O' for evaluation\n",
    "\n",
    "print(\"F1 score:\")\n",
    "print(metrics.flat_f1_score(y_test, y_pred, average='weighted', labels=labels))\n",
    "\n",
    "print(\"\\nClassification Report:\")\n",
    "print(metrics.flat_classification_report(y_test, y_pred, labels=labels))"
   ]
  },
  {
   "cell_type": "markdown",
   "id": "ea72db83-c982-4e54-bcfb-b85bd9f51b75",
   "metadata": {},
   "source": [
    "# SAVE THE MODEL"
   ]
  },
  {
   "cell_type": "code",
   "execution_count": 4,
   "id": "0d6af9fe-6225-4e3c-a7c2-550013ed5b64",
   "metadata": {},
   "outputs": [
    {
     "name": "stdout",
     "output_type": "stream",
     "text": [
      "Model saved to crf_ner_model.pkl\n"
     ]
    }
   ],
   "source": [
    "# Save the trained CRF model\n",
    "model_filename = 'crf_ner_model.pkl'\n",
    "joblib.dump(crf, model_filename)\n",
    "\n",
    "print(f\"Model saved to {model_filename}\")"
   ]
  },
  {
   "cell_type": "markdown",
   "id": "4e6dcb33-4fbb-40a7-bda8-2db608487954",
   "metadata": {},
   "source": [
    "# Loading and Using the Saved Model"
   ]
  },
  {
   "cell_type": "code",
   "execution_count": 6,
   "id": "9bbcf3a1-1e10-4f4c-a2bb-01a9d1cf3442",
   "metadata": {},
   "outputs": [
    {
     "name": "stdout",
     "output_type": "stream",
     "text": [
      "[['B-LOC' 'I-LOC' 'B-LOC']]\n"
     ]
    }
   ],
   "source": [
    "# Load the model\n",
    "crf = joblib.load('crf_ner_model.pkl')\n",
    "\n",
    "# Use the model for prediction on new sentences\n",
    "new_sentence = [('هەرێمی',), ('کوردستان',), ('تورکیا',)]\n",
    "new_features = [sent2features(new_sentence)]\n",
    "predicted_labels = crf.predict(new_features)\n",
    "\n",
    "print(predicted_labels)"
   ]
  },
  {
   "cell_type": "code",
   "execution_count": null,
   "id": "20f6ae5e-9e89-4d44-bb82-48648a6504ec",
   "metadata": {},
   "outputs": [],
   "source": []
  }
 ],
 "metadata": {
  "kernelspec": {
   "display_name": "Python 3 (ipykernel)",
   "language": "python",
   "name": "python3"
  },
  "language_info": {
   "codemirror_mode": {
    "name": "ipython",
    "version": 3
   },
   "file_extension": ".py",
   "mimetype": "text/x-python",
   "name": "python",
   "nbconvert_exporter": "python",
   "pygments_lexer": "ipython3",
   "version": "3.12.4"
  }
 },
 "nbformat": 4,
 "nbformat_minor": 5
}
